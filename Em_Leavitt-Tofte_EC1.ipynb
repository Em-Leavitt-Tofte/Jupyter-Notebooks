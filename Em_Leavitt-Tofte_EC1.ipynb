{
 "cells": [
  {
   "cell_type": "markdown",
   "id": "5a631c88",
   "metadata": {},
   "source": [
    "# How have the Olympic games athletes changed over time?"
   ]
  },
  {
   "cell_type": "markdown",
   "id": "bfb71fa8",
   "metadata": {
    "tags": [
     "4_min"
    ]
   },
   "source": [
    "## Introduction\n",
    "\n",
    "**Business Context.** You work for a company that specializes in analyzing data for a variety of clients in the sports industry. Some questions that you frequently encounter include determining if a new player is promising enough to invest money in their development, which teams are the most likely to win certain matches, what events will be the most attractive to advertisers, etc.\n",
    "\n",
    "**Business Problem.** As part of one of your projects, you have been asked to perform an exploratory data analysis of historical data to **detect patterns in the provenance, physical profile, and other characteristics of the athletes who compete in the Olympic games**. The conclusions of your analysis will help the rest of the team prepare a report for a new client who helps sports gear manufacturers find advertising opportunities.\n",
    "\n",
    "**Analytical Context.** You have scraped a dataset from the Internet, which contains data for all the Olympic games from Norway 1994 to Rio 2016. It comprises data for 46,533 individual athletes and has 13 columns for each one of them. There are 68,848 rows instead of 46,533 rows in the `olympics_data` worksheet because some athletes have won multiple medals:\n",
    "\n",
    "* **ID**: A unique number assigned to each athlete\n",
    "* **Name**: The athlete's name\n",
    "* **Sex**: The athlete's sex\n",
    "* **Age**: The athlete's age at the moment of the games\n",
    "* **Height**: The athlete's height in centimeters\n",
    "* **Weight**: The athlete's weight in kilograms\n",
    "* **Team**: The athlete's team (country)\n",
    "* **Year**: The year\n",
    "* **Season**: The season\n",
    "* **City**: The host city\n",
    "* **Sport**: The sport the athlete competed in\n",
    "* **Medal**: The medal that the athlete won, if any (can be Gold, Silver, Bronze, or NA)\n",
    "* **Won medal?**: 1 if the athlete won a medal, 0 otherwise\n",
    "\n",
    "The dataset can be downloaded from [this link](data/olympics_fellow.xlsx).\n",
    "\n",
    "**Note:** Please write all your formulas in the `calculations` worksheet unless explicitly asked to do it in another sheet, clearly indicating the exercise they belong to. You will need to submit the Excel file along with this notebook."
   ]
  },
  {
   "cell_type": "markdown",
   "id": "c7b1fc58",
   "metadata": {
    "tags": [
     "6_min"
    ]
   },
   "source": [
    "## Height, weight, and age\n",
    "\n",
    "### Exercise 1\n",
    "\n",
    "#### 1.1\n",
    "\n",
    "Calculate the average height, weight, and age of athletes in Rio 2016 across all sports."
   ]
  },
  {
   "cell_type": "markdown",
   "id": "271377e3",
   "metadata": {
    "tags": [
     "ans_st"
    ]
   },
   "source": [
    "**Answer.**"
   ]
  },
  {
   "cell_type": "markdown",
   "id": "6b3cf5df",
   "metadata": {},
   "source": [
    "Whith no duplicate names in the table: Height: 176.65 cm  Weight: 71.81Kg Age: 26.39 years\n",
    "\n",
    "With duplicate names in the table: Age:26.39 Weight:71.81 Height:176.65"
   ]
  },
  {
   "cell_type": "markdown",
   "id": "15265a38",
   "metadata": {
    "tags": [
     "4_min"
    ]
   },
   "source": [
    "#### 1.2\n",
    "\n",
    "Repeat Exercise 1.1 but for Sydney 2000. Have the averages changed noticeably?"
   ]
  },
  {
   "cell_type": "markdown",
   "id": "37de1ce6",
   "metadata": {
    "tags": [
     "ans_st"
    ]
   },
   "source": [
    "Average Height: 177.06cm  Weight: 72.43kg  Age: 25.84 years\n",
    "The avergaes have changed but not significantly. The averages are very similar."
   ]
  },
  {
   "cell_type": "markdown",
   "id": "c462da95",
   "metadata": {},
   "source": [
    "-------"
   ]
  },
  {
   "cell_type": "markdown",
   "id": "37986eb3",
   "metadata": {
    "tags": [
     "5_min"
    ]
   },
   "source": [
    "## Geographic representation\n",
    "\n",
    "### Exercise 2\n",
    "\n",
    "This is a chart of the number of countries that participated in the games from 1998 to 2016. What can you conclude from it?\n",
    "\n",
    "![Teams per year](data/images/teams_per_year.png)\n",
    "\n",
    "**Hint:** Keep in mind that Summer and Winter games are not held in the same year. In the Winter games, the number of teams is typically lower than in the Summer games."
   ]
  },
  {
   "cell_type": "markdown",
   "id": "c8309a46",
   "metadata": {
    "tags": [
     "ans_st"
    ]
   },
   "source": [
    "The most teams competed in the summer olympics in 2008. Less than half of the teams that competed in the summer olympics also competed in the winter olympics. The lowest number of teams to compete in the winter olympics was in 1998.The number of teams that competed in 2000 and 2012 is very close. The number of teams that competed in 2002, 2006, 2010, and 2014 was also very close."
   ]
  },
  {
   "cell_type": "markdown",
   "id": "ba371ff7",
   "metadata": {},
   "source": [
    "-------"
   ]
  },
  {
   "cell_type": "markdown",
   "id": "53d21456",
   "metadata": {
    "tags": [
     "10_min"
    ]
   },
   "source": [
    "### Exercise 3\n",
    "\n",
    "These are the top 10 countries by number of athletes sent for all the games between 1998 and 2016. What patterns can you spot?\n",
    "\n",
    "![1998](data/images/top_1998.png)\n",
    "![2000](data/images/top_2000.png)\n",
    "![2002](data/images/top_2002.png)\n",
    "![2004](data/images/top_2004.png)\n",
    "![2006](data/images/top_2006.png)\n",
    "![2008](data/images/top_2008.png)\n",
    "![2010](data/images/top_2010.png)\n",
    "![2012](data/images/top_2012.png)\n",
    "![2014](data/images/top_2014.png)\n",
    "![2016](data/images/top_2016.png)"
   ]
  },
  {
   "cell_type": "markdown",
   "id": "83ffa280",
   "metadata": {
    "tags": [
     "ans_st"
    ]
   },
   "source": [
    "The U.S. sent either the most or second most athletes 9/10 of the games. A country has never sent more than 250 athletes to the winter olympics.A country hasn't sent more than 700 athletes to the summer games.The country that is hosting the games sends a large amount more athletes compared to when they aren't hosting. Canada (colder climate) sends a large amount of athletes to the games in the winter but not that many in the summer when compared to the other countries. Germany has been in the top 10 all 10 olympics. The 2016 summer olympics had a decline in athletes sent from most countries shown."
   ]
  },
  {
   "cell_type": "markdown",
   "id": "354130b0",
   "metadata": {},
   "source": [
    "-------"
   ]
  },
  {
   "cell_type": "markdown",
   "id": "b6ac173c",
   "metadata": {
    "tags": [
     "1_min"
    ]
   },
   "source": [
    "## Athletes by gender\n",
    "\n",
    "These pie charts show the number of athletes by gender in Sydney 2000 and Rio 2016:\n",
    "\n",
    "![Male and female Sydney](data/images/male_female_sydney.png)\n",
    "![Male and female Rio](data/images/male_female_rio.png)"
   ]
  },
  {
   "cell_type": "markdown",
   "id": "6e2f7180",
   "metadata": {
    "tags": [
     "10_min"
    ]
   },
   "source": [
    "### Exercise 4\n",
    "\n",
    "#### 4.1\n",
    "\n",
    "We need to put labels on these pie charts. How many male and female athletes were there in Rio 2016 and Sydney 2000?\n",
    "\n",
    "**Hint:** You can use the **`COUNTIF()`** function to solve this exercise. This function works very similarly to the `COUNTA()` function, with the difference that it only counts those cells that meet a certain condition. Feel free to look this function up on the Internet!"
   ]
  },
  {
   "cell_type": "markdown",
   "id": "7b480a19",
   "metadata": {
    "tags": [
     "ans_st"
    ]
   },
   "source": [
    "      \t     \n",
    "Sydney had 2550 females and 4231 males. Rio had 5031 femals and 6143 males."
   ]
  },
  {
   "cell_type": "markdown",
   "id": "248f6b3b",
   "metadata": {},
   "source": [
    "-------"
   ]
  },
  {
   "cell_type": "markdown",
   "id": "8b5afbda",
   "metadata": {
    "tags": [
     "2_min"
    ]
   },
   "source": [
    "#### 4.2\n",
    "\n",
    "Use Excel to calculate the ratio of $\\frac{male}{female}$ athletes in both Rio and Sydney. Has it changed?"
   ]
  },
  {
   "cell_type": "markdown",
   "id": "058e851b",
   "metadata": {
    "tags": [
     "ans_st"
    ]
   },
   "source": [
    "The ratio of males to females in Sydney was 1.6 to 1 and 1.22 to 1 in Rio. It has changed. The ratio is closer to equal at the Rio games."
   ]
  },
  {
   "cell_type": "markdown",
   "id": "a0d2913a",
   "metadata": {},
   "source": [
    "-------"
   ]
  },
  {
   "cell_type": "markdown",
   "id": "a9a58df0",
   "metadata": {
    "tags": [
     "10_min"
    ]
   },
   "source": [
    "#### 4.3\n",
    "\n",
    "Complete the table in the `gender_sport` worksheet. \n",
    "\n",
    "**Hint:** Use the **`COUNTIFS()`** function. It works like `COUNTIF()` but allows you to have more than one condition over more than one column."
   ]
  },
  {
   "cell_type": "markdown",
   "id": "93b6f07b",
   "metadata": {
    "tags": [
     "8_min"
    ]
   },
   "source": [
    "#### 4.4\n",
    "\n",
    "Interpret the results of your completed table from Exercise 4.3. What can you say?"
   ]
  },
  {
   "cell_type": "markdown",
   "id": "4e4d7e5c",
   "metadata": {
    "tags": [
     "ans_st"
    ]
   },
   "source": [
    "There are some sports where females were not allowed to compete in 2000 but were able to in 2016 (boxing and wrestling). Rhythmic gymnastics and synchronized swimming remained all female sports. The only sports that the percentage of female athletes in 2016 was lower was diving, Judo, and tble tennis. You can tell that they elimanted softball from the olympics because it is in the table in 2000 but not 2016. Only one more sport was female dominated (greater than 50% female) in 2016 compared to 2000."
   ]
  },
  {
   "cell_type": "markdown",
   "id": "108df9ae",
   "metadata": {},
   "source": [
    "-------"
   ]
  },
  {
   "cell_type": "markdown",
   "id": "47cdaf63",
   "metadata": {
    "tags": [
     "6_min"
    ]
   },
   "source": [
    "## Medals\n",
    "\n",
    "### Exercise 5\n",
    "\n",
    "#### 5.1\n",
    "\n",
    "How many medals were awarded between 1998 and 2016?\n",
    "\n",
    "**Hint:** Use the `Won a medal?` column."
   ]
  },
  {
   "cell_type": "markdown",
   "id": "64966178",
   "metadata": {
    "tags": [
     "ans_st"
    ]
   },
   "source": [
    "**Answer.**"
   ]
  },
  {
   "cell_type": "markdown",
   "id": "b408a9d5",
   "metadata": {},
   "source": [
    "12023, .259 medals per athlete."
   ]
  },
  {
   "cell_type": "markdown",
   "id": "74317430",
   "metadata": {
    "tags": [
     "5_min"
    ]
   },
   "source": [
    "#### 5.2\n",
    "\n",
    "How many medals per athlete were awarded in Rio 2016?"
   ]
  },
  {
   "cell_type": "markdown",
   "id": "9ff052c0",
   "metadata": {
    "tags": [
     "ans_st"
    ]
   },
   "source": [
    ".174 medals per athlete."
   ]
  },
  {
   "cell_type": "markdown",
   "id": "57f6b26a",
   "metadata": {},
   "source": [
    "-------"
   ]
  },
  {
   "cell_type": "markdown",
   "id": "0a798fc9",
   "metadata": {
    "tags": [
     "4_min"
    ]
   },
   "source": [
    "#### 5.3\n",
    "\n",
    "How about in Sydney? Is it lower or higher?"
   ]
  },
  {
   "cell_type": "markdown",
   "id": "211c764e",
   "metadata": {
    "tags": [
     "ans_st"
    ]
   },
   "source": [
    ".283 medals per athlete, this is a higher amount than Rio 2016. Suggesting either a lower amount of medals given out or more athletes. There was a lot more athletes in 2016."
   ]
  },
  {
   "cell_type": "markdown",
   "id": "eaa7763a",
   "metadata": {},
   "source": [
    "-------"
   ]
  },
  {
   "cell_type": "markdown",
   "id": "dc17a1b7",
   "metadata": {
    "tags": [
     "20_min"
    ]
   },
   "source": [
    "### Exercise 6\n",
    "\n",
    "#### 6.1\n",
    "\n",
    "Complete the table in the `medals_sport` worksheet (you can use `COUNTIF()` and `SUMIF()`). What are the top 10 sports with the most medals per athlete in Rio 2016? How about in Sydney 2000?\n",
    "\n",
    "**Hint:** To find the top tens, you will need to sort the table by multiple columns, namely year and medals per athlete. Again, use the Internet to help you with how to do this!"
   ]
  },
  {
   "cell_type": "markdown",
   "id": "8a4ed1e8",
   "metadata": {
    "tags": [
     "ans_st"
    ]
   },
   "source": [
    "Rio: 1.Water Polo 2.Rowing 3.Basketball 4.Synchronized Swimming 5.Volleyball 6.Taekwondo 7.Hockey 8. Handball 9.Football 10.Wrestling\n",
    "\n",
    "Sydney: 1.Baseball 2.Handball 3.Softball 4.Water Polo 5.Football 6.Rythmic Gymnastics 7.Hockey 8.Basketball 9.Rowing 10.Synchronized Swimming"
   ]
  },
  {
   "cell_type": "markdown",
   "id": "deec1a71",
   "metadata": {},
   "source": [
    "-------"
   ]
  },
  {
   "cell_type": "markdown",
   "id": "da04f689",
   "metadata": {
    "tags": [
     "5_min"
    ]
   },
   "source": [
    "#### 6.2\n",
    "\n",
    "Which sports are included in both rankings? What could be the reason that these sports show up in both tables?"
   ]
  },
  {
   "cell_type": "markdown",
   "id": "75ff857a",
   "metadata": {
    "tags": [
     "ans_st"
    ]
   },
   "source": [
    "Water Polo, Rowing, Basketball, Synchronized Swimming, Hockey, Handball, and Football. These sports are team sports so each person on the team gets a medal. There is a larger number of athletes but there is also a larger number of medals given out. Whereas in archery for both games had a substantial amount of athletes but very few number of medals given out since it is not a team sport."
   ]
  },
  {
   "cell_type": "markdown",
   "id": "a37774a2",
   "metadata": {},
   "source": [
    "-------"
   ]
  },
  {
   "cell_type": "markdown",
   "id": "5e8c7d42",
   "metadata": {},
   "source": [
    "## Attribution\n",
    "\n",
    "\"120 years of Olympic history: athletes and results\", June 15, 2018, Kaggle (user rgriffin, with data from www.sports-reference.com), Sports Reference [Terms of Use](https://www.sports-reference.com/termsofuse.html), https://www.kaggle.com/heesoo37/120-years-of-olympic-history-athletes-and-results"
   ]
  }
 ],
 "metadata": {
  "c1_recart": "7.19.0-57c20131aabc1dc2a8c675852d80a7da",
  "kernelspec": {
   "display_name": "Python 3",
   "language": "python",
   "name": "python3"
  },
  "language_info": {
   "codemirror_mode": {
    "name": "ipython",
    "version": 3
   },
   "file_extension": ".py",
   "mimetype": "text/x-python",
   "name": "python",
   "nbconvert_exporter": "python",
   "pygments_lexer": "ipython3",
   "version": "3.8.8"
  }
 },
 "nbformat": 4,
 "nbformat_minor": 5
}
