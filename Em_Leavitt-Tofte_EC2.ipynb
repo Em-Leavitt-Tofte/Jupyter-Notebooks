{
 "cells": [
  {
   "cell_type": "markdown",
   "id": "13760e8b",
   "metadata": {},
   "source": [
    "# Understanding the alternative fuel vehicles market in the US"
   ]
  },
  {
   "cell_type": "markdown",
   "id": "e24b2df7",
   "metadata": {
    "tags": [
     "4_min"
    ]
   },
   "source": [
    "## Introduction\n",
    "\n",
    "**Business Context.** You are an analyst at the ICCT ([International Council on Clean Transportation](https://theicct.org/mission-history)), an NGO that provides research to environmental authorities around the world. You are part of a team that is preparing a report on the alternative fuel vehicles (AFV) market in the United States, with a particular focus on the state of Washington.\n",
    "\n",
    "**Business Problem.** Your job is to **provide a characterization of the AFV market in the US and in Washington, including data about energy efficiency of the vehicles over time, geographical distribution, etc.**\n",
    "\n",
    "**Analytical Context.** You will be working with three Excel files that contain the raw data. The first one is  [`us_sales_fellow.xlsx`](data/us_sales_fellow.xlsx), which contains aggregated sales figures for the US; the second one is [`us_ranges_fellow.xlsx`](data/us_ranges_fellow.xlsx), which has data about ranges of electrical vehicles. These data files come from the US Department of Energy. The last one is [`washington_evs_fellow.xlsx`](data/washington_evs_fellow.xlsx), which is a census of all the electric vehicles in circulation in Washington state. This census data comes from the Washington State Department of Licensing.\n",
    "\n",
    "**Note:** For this extended case, you will need to submit one consolidated Excel file with your answers in addition to this notebook."
   ]
  },
  {
   "cell_type": "markdown",
   "id": "3ca7cdbf",
   "metadata": {
    "tags": [
     "4_min"
    ]
   },
   "source": [
    "## Alternative fuel vehicles in the US\n",
    "\n",
    "[Alternative fuel vehicles (AFV)](https://en.wikipedia.org/wiki/Alternative_fuel_vehicle) are vehicles that run either partially or totally on an energy source that is not gasoline or diesel, such as ethanol, solar power, electricity, or hydrogen. Some AFVs are highly efficient and, perhaps more importantly, have reduced greenhouse gas emissions relative to traditional vehicles, which makes them an important part of environmental recovery and protection plans around the globe.\n",
    "\n",
    "This chart shows the distribution of light-duty AFVs in the US as of Dec. 31, 2018:\n",
    "\n",
    "![](data/images/light-duty-afv-registrat.png)\n",
    "\n",
    "**Legend:** *FFV:* Flexible fuel vehicle (cars that run on biofuels or mixtures of gas and biofuels - most of the FFVs in the US operate primarily on gasoline, see [here](https://afdc.energy.gov/vehicles/flexible_fuel.html) for more information). *HEV:* Hybrid electric vehicle. *CNG:* Compressed natural gas. *EV:* Electric vehicle. *PHEV:* Plug-in hybrid electric vehicle. PHEVs and EVs are often counted as a single category, Plug-in electric vehicles (*PEV*s). **Source:** Alternative Fuels Data Center, US Department of Energy."
   ]
  },
  {
   "cell_type": "markdown",
   "id": "9ef597cb",
   "metadata": {
    "tags": [
     "10_min"
    ]
   },
   "source": [
    "### Exercise 1\n",
    "\n",
    "Write a paragraph with an interpretation of this chart in your own words."
   ]
  },
  {
   "cell_type": "markdown",
   "id": "74e9e394",
   "metadata": {
    "tags": [
     "ans_st"
    ]
   },
   "source": [
    "CNG's are the least registered. FFV's are the most registered, the market is dominated by FFV's. HEV's are the second most popular AFV. EV's and PHEV's have a similar amount of registrations. This makes sense since the legend states that PHEV's and EV's are often counted as a single category. The low percentage of EV's puts into perspective the low amount of EV's we have on the road even though they are being produced. "
   ]
  },
  {
   "cell_type": "markdown",
   "id": "ec39d13f",
   "metadata": {},
   "source": [
    "-------"
   ]
  },
  {
   "cell_type": "markdown",
   "id": "f82f4632",
   "metadata": {
    "tags": [
     "10_min"
    ]
   },
   "source": [
    "### Exercise 2\n",
    "\n",
    "Read this excerpt from [this page](https://afdc.energy.gov/vehicles/flexible_fuel.html) about flexible fuel vehicles:\n",
    "\n",
    "> Flexible fuel vehicles (FFVs) have an internal combustion engine and are capable of operating on gasoline and any blend of gasoline and ethanol up to 83%. E85 (or flex fuel) is a gasoline-ethanol blend containing 51% to 83% ethanol, depending on geography and season. According to IHS Markit, as of 2017, there were more than 21 million FFVs in the United States. Because FFVs are factory made and are capable of operating on gasoline and gasoline-ethanol blends, many vehicle owners don't realize their car is an FFV and that they have a choice of fuels to use.\n",
    "\n",
    "What implications does this have for your analysis?"
   ]
  },
  {
   "cell_type": "markdown",
   "id": "68c5551b",
   "metadata": {
    "tags": [
     "ans_st"
    ]
   },
   "source": [
    "If many owners aren't aware that their vehicle is an FFV then they also wouldn't register their vehicle as one. Therefore, there could be more FFV owners than represented in the chart. If this is true than all of the other AFV percentages are also incorrect since they use the sum of all types to calculate each percentage. If it is a drastic difference then a the smaller percentages start to become insignificant incomparison to the largest one. It's would become harder to tell the smaller percentages apart."
   ]
  },
  {
   "cell_type": "markdown",
   "id": "68b8bb22",
   "metadata": {},
   "source": [
    "-------"
   ]
  },
  {
   "cell_type": "markdown",
   "id": "c66fdb61",
   "metadata": {
    "tags": [
     "30_min"
    ]
   },
   "source": [
    "### Exercise 3\n",
    "\n",
    "Your team would like to know how the sales of fully electric vehicles compare to those of plug-in hybrid electric vehicles over time. Open the [`us_sales_fellow.xlsx`](data/us_sales_fellow.xlsx) file. The `models` worksheet has a list of all the models in the dataset with their type (either EV or PHEV) and the `sales` worksheet shows how many units were sold of each model in each year between 2011 and 2019. Make a pivot table that has these rows and columns (insert it in a new worksheet):\n",
    "\n",
    "![US sales pivot table](data/images/us_sales_pivot.png)\n",
    "\n",
    "**Hint:** You will need to use the `INDEX()` and `MATCH()` functions."
   ]
  },
  {
   "cell_type": "markdown",
   "id": "725df4d6",
   "metadata": {
    "tags": [
     "10_min"
    ]
   },
   "source": [
    "### Exercise 4\n",
    "\n",
    "The figures you have just calculated can be represented using the below plots. Provide a paragraph in which you explain in your own words what can be inferred from them:\n",
    "\n",
    "![US sales bar plot total](data/images/us_sales_bar_total.png)\n",
    "![US sales bar plot by type](data/images/us_sales_bar_type.png)"
   ]
  },
  {
   "cell_type": "markdown",
   "id": "d878c8ae",
   "metadata": {
    "tags": [
     "ans_st"
    ]
   },
   "source": [
    "**Answer.**"
   ]
  },
  {
   "cell_type": "markdown",
   "id": "c3c312f3",
   "metadata": {},
   "source": [
    "As time has passed AFV's have become more popular. From the years 2011 to 2017, EV's and PHEV's had similar amounts of units sold. Then in 2018 and 2019 the number of EV's greatly surpasses the number of PHEV's sold. It is possible that PHEV's helped shift consumers from gas to more sustainable sources like electricity. Why get an PHEV when you can go fully electric? The number of EV's sold has consistently risen whereas PHEV units sold has varied. Years 2018 and 2019 of the chart suggest PHEV's will phase out as the popularity of EV's keeps rising."
   ]
  },
  {
   "cell_type": "markdown",
   "id": "44e0c15e",
   "metadata": {
    "tags": [
     "35_min"
    ]
   },
   "source": [
    "### Exercise 5 (hard)\n",
    "\n",
    "Let's now investigate the ranges of electric vehicles in the US. The range of an electric vehicle is the theoretical number of miles it can travel without needing to be recharged.\n",
    "\n",
    "The data has come to you in the [`us_ranges_fellow.xlsx`](data/us_ranges_fellow.xlsx) file. It contains range data for a number of EV models in the form of text strings. For example, `2013 Toyota - Scion Iq 038` means that the range of a Toyota Scion Iq model 2013 is 38 miles. Your job is to use Excel functions to create a table out of this data with the four columns `YEAR`, `MAKE`, `MODEL`, and `RANGE`, to end up with something like this:\n",
    "\n",
    "![Us ranges data wrangling](data/images/wrangled.png)\n",
    "\n",
    "**Hint:** Use the `FIND()`, `LEN()`, `RIGHT()`, `LEFT()`, `TRIM()`, and `VALUE()` functions to wrangle the data. Notice that all years have four characters and all ranges have three."
   ]
  },
  {
   "cell_type": "markdown",
   "id": "6e6c5504",
   "metadata": {
    "tags": [
     "10_min"
    ]
   },
   "source": [
    "### Exercise 6\n",
    "\n",
    "This is a histogram made with the data from Exercise 5:\n",
    "\n",
    "![Histogram of range](data/images/histogram.png)\n",
    "\n",
    "There is a gap in the interval from ~147 to ~228 miles. What does that mean? What could be causing it?"
   ]
  },
  {
   "cell_type": "markdown",
   "id": "bbdc9247",
   "metadata": {
    "tags": [
     "ans_st"
    ]
   },
   "source": [
    "There could be companies that have advanced technology compared to the others. Or there is just technological advances in general that don't belong to just one company. The common technology would be hte fist half and the new technology would represent the higher range half.It could be that a smaller power source is being doubled so it leaves out the middle of the pack of ranges. "
   ]
  },
  {
   "cell_type": "markdown",
   "id": "93005097",
   "metadata": {},
   "source": [
    "-------"
   ]
  },
  {
   "cell_type": "markdown",
   "id": "4cbe3812",
   "metadata": {
    "tags": [
     "10_min"
    ]
   },
   "source": [
    "### Exercise 7\n",
    "\n",
    "Do newer cars have longer ranges?"
   ]
  },
  {
   "cell_type": "markdown",
   "id": "b1970749",
   "metadata": {
    "tags": [
     "ans_st"
    ]
   },
   "source": [
    "According to the data we used for exersise 5, you could say yes, new cars do have longer ranges. 2017's average range was 141 compared to 2011 when it was 77. However, 2012 has the 3rd largest average range from 2011 to 2017 which goes against saying newer cars have longer ranges because 2015,2014, and 2013 all had smaller ranges. 2017's range of 141 stands out against the middle of the pack which is between 95 and 110 average ranges. "
   ]
  },
  {
   "cell_type": "markdown",
   "id": "c25066dc",
   "metadata": {},
   "source": [
    "-------"
   ]
  },
  {
   "cell_type": "markdown",
   "id": "250d6915",
   "metadata": {},
   "source": [
    "## Electric vehicle population in Washington state\n",
    "\n",
    "Let's now move on to studying the population of electric vehicles in Washington State using pivot tables. The relevant file is [`washington_evs_fellow.xlsx`](data/washington_evs_fellow.xlsx)."
   ]
  },
  {
   "cell_type": "markdown",
   "id": "d10b3b5b",
   "metadata": {
    "tags": [
     "7_min"
    ]
   },
   "source": [
    "### Exercise 8\n",
    "\n",
    "#### 8.1\n",
    "\n",
    "What are the 5 most popular makes in Washington?"
   ]
  },
  {
   "cell_type": "markdown",
   "id": "b089d0f3",
   "metadata": {
    "tags": [
     "ans_st"
    ]
   },
   "source": [
    "**Answer.**"
   ]
  },
  {
   "cell_type": "markdown",
   "id": "a8a9d2db",
   "metadata": {},
   "source": [
    "1.Tesla 2.Nissan 3.Chevrolet 4.Ford 5.Kia"
   ]
  },
  {
   "cell_type": "markdown",
   "id": "799192b5",
   "metadata": {
    "tags": [
     "7_min"
    ]
   },
   "source": [
    "#### 8.2\n",
    "\n",
    "What are the most common model years in Washington? Do this result and that of the previous exercise suggest that cars in Washington tend to have long ranges?"
   ]
  },
  {
   "cell_type": "markdown",
   "id": "3e7be41d",
   "metadata": {
    "tags": [
     "ans_st"
    ]
   },
   "source": [
    "From most to least common : 2018,2020,2019,2017,2021,2016,2015,2013,2014,2012,2011,2022,2010,2008,2000,1999,2002,1998,1997,1993\n"
   ]
  },
  {
   "cell_type": "markdown",
   "id": "d29db2d9",
   "metadata": {},
   "source": [
    "The ranges tend to get longer the newer the vehicle is. The most common years are 'newer' vehicles and Tesla's (most common car) have the longest ranges, this all suggests the cars in Washington tend to have long ranges.                                                                                         Also, the makes with the average longest ranges are 1.Jaguar 2.Polestar 3.Tesla 4.Chevrolet 5. Th!nk 6.Wheego Electric Cars 7.Nissan 8.Volkswagen 9.Kia. So, 4 of the most popular makes in Washington are in the top 10 makes with the longest ranges. You could even rank them higher because Jaguar, Polestar, Th!nk, and Wheego vehicles wern't really mass produced. If you removed them from the ranking, it woould be 1.Tesla 2.Chevrolet 3.Nissan 4.Volkswagen 5.Kia."
   ]
  },
  {
   "cell_type": "markdown",
   "id": "57132d35",
   "metadata": {
    "tags": [
     "6_min"
    ]
   },
   "source": [
    "### Exercise 9\n",
    "\n",
    "This is a histogram of vehicles in Washington state according to their ranges. Is it consistent with the hypothesis that cars there tend to have long ranges?\n",
    "\n",
    "![Histogram of ranges (Washington)](data/images/histogram_washington.png)\n",
    "\n",
    "**Note:** While the histogram you analyzed in Exercise 6 showed the distribution of ranges from a list of *models*, this histogram shows you the distribution from a list of *individual vehicles*, and therefore the two histograms are not comparable. The dataset from Exercise 6 had 65 models, while the Washington state dataset has 76,767 vehicles."
   ]
  },
  {
   "cell_type": "markdown",
   "id": "0defb6be",
   "metadata": {
    "tags": [
     "ans_st"
    ]
   },
   "source": [
    "The histogram shows that over 20000 vehicles have a range between 0 and 33.7. This does not support the hypothesis that cars in Washington tend to have long ranges. This means the largest number of vehicles there have a small range not a long one."
   ]
  },
  {
   "cell_type": "markdown",
   "id": "bb2b93d7",
   "metadata": {},
   "source": [
    "-------"
   ]
  },
  {
   "cell_type": "markdown",
   "id": "1f3eb61a",
   "metadata": {},
   "source": [
    "## Attribution\n",
    "\n",
    "\"Light-Duty AFV Registrations\", Aug 2020, Alternative Fuels Data Center, US Department of Energy, [Public Domain](https://www.energy.gov/about-us/web-policies), https://afdc.energy.gov/data/10861\n",
    "\n",
    "\"Electric Vehicle Population Data\", Aug 2021, Washington State Department of Licensing (DOL), [DOL Conditions of Use](https://www.dol.wa.gov/conditions.html) https://catalog.data.gov/dataset/electric-vehicle-population-data\n",
    "\n",
    "\"U.S. Plug-in Electric Vehicle Sales by Model\", Jan 2020, Alternative Fuels Data Center, US Department of Energy, [Public Domain](https://www.energy.gov/about-us/web-policies), https://afdc.energy.gov/data/10567\n",
    "\n",
    "\"Average Range and Efficiency of U.S. Electric Vehicles\", Jan 2020, Alternative Fuels Data Center, US Department of Energy, [Public Domain](https://www.energy.gov/about-us/web-policies), https://afdc.energy.gov/data/10963"
   ]
  }
 ],
 "metadata": {
  "c1_recart": "7.26.0-57c20131aabc1dc2a8c675852d80a7da",
  "kernelspec": {
   "display_name": "Python 3",
   "language": "python",
   "name": "python3"
  },
  "language_info": {
   "codemirror_mode": {
    "name": "ipython",
    "version": 3
   },
   "file_extension": ".py",
   "mimetype": "text/x-python",
   "name": "python",
   "nbconvert_exporter": "python",
   "pygments_lexer": "ipython3",
   "version": "3.8.12"
  }
 },
 "nbformat": 4,
 "nbformat_minor": 5
}
